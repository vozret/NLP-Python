{
 "cells": [
  {
   "cell_type": "code",
   "execution_count": 1,
   "metadata": {},
   "outputs": [],
   "source": [
    "import spacy"
   ]
  },
  {
   "cell_type": "code",
   "execution_count": 2,
   "metadata": {},
   "outputs": [],
   "source": [
    "nlp = spacy.load(\"en_core_web_sm\")"
   ]
  },
  {
   "cell_type": "code",
   "execution_count": 3,
   "metadata": {},
   "outputs": [
    {
     "name": "stdout",
     "output_type": "stream",
     "text": [
      "{'down', 'yet', 'both', 'all', 'next', 'twenty', 'mostly', 'keep', 'had', 'or', 'too', 'ever', 'nowhere', \"'ll\", 'behind', 're', 'thence', '’d', 'anything', 'thereafter', 'first', '’m', 'top', 'doing', 'my', 'either', 'when', 'fifteen', 'against', 'would', 'call', 'here', 'his', 'are', 'then', \"'m\", 'beyond', 'indeed', 'hereafter', 'front', 'whither', 'say', 'therefore', 'amongst', 'once', 'above', 'well', '’re', 'he', 'before', \"'s\", 'itself', 'often', '‘m', 'eight', 'myself', 'toward', 'around', 'as', 'everywhere', 'could', 'seem', '’ll', 'we', 'perhaps', 'never', 'between', 'nine', 'what', 'rather', 'regarding', \"'ve\", 'is', '‘re', 'whence', 'cannot', 'your', 'where', 'former', 'into', 'me', 'most', 'hundred', 'why', 'formerly', 'whole', 'show', 'than', 'whereupon', 'therein', 'in', 'wherein', 'a', 'various', 'although', 'none', 'over', 'used', 'hers', 'yours', 'everyone', 'whereafter', 'sometimes', 'further', 'those', 'go', '’s', 'am', 'have', 'per', 'without', 'only', 'which', 'an', 'anyhow', 'elsewhere', 'throughout', 'under', 'four', 'one', 'hereby', 'latterly', '‘d', 'side', 'can', 'been', 'herein', 'become', 'may', 'really', 'nevertheless', 'moreover', 'seemed', 'the', 'else', 'amount', 'towards', 'her', 'you', 'across', 'together', 'same', 'that', 'using', 'ourselves', 'much', 'back', 'wherever', 'us', 'yourself', 'herself', 'now', 'n’t', 'made', 'though', 'onto', 'unless', 'them', \"'re\", 'seeming', 'last', 'less', 'three', 'more', '‘ll', '‘ve', 'him', 'this', 'by', 'thru', 'ca', 'nobody', 'below', 'part', 'did', 'get', 'so', 'sometime', 'seems', 'see', 'very', 'whom', \"'d\", 'move', 'she', 'other', 'becoming', 'also', 'fifty', 'quite', 'n‘t', \"n't\", 'be', 'they', 'forty', 'already', 'off', 'among', 'along', 'beside', 'for', 'anyway', 'due', 'several', 'has', 'whoever', 'enough', 'becomes', 'afterwards', 'eleven', 'became', 'about', 'these', 'something', 'anyone', 'give', 'should', 'please', 'any', 'from', 'whose', 'do', 'thereby', 'nor', 'being', 'with', 'besides', 'might', 'will', 'and', 'whereas', 'hence', 'yourselves', 'whatever', 'through', 'nothing', 'hereupon', 'its', 'least', 'upon', 'were', 'done', 'again', 'up', 'within', 'it', 'just', 'whereby', 'few', 'does', 'third', 'if', 'until', 'almost', 'every', 'beforehand', 'of', '’ve', 'because', 'some', 'somehow', 'on', 'thus', 'but', 'since', 'such', 'neither', 'during', 'however', 'not', '‘s', 'noone', 'sixty', 'another', 'always', 'was', 'twelve', 'somewhere', 'our', 'six', 'everything', 'except', 'take', 'to', 'alone', 'out', 'there', 'five', 'make', 'own', 'via', 'how', 'whenever', 'empty', 'serious', 'others', 'ten', 'full', 'while', 'i', 'anywhere', 'who', 'many', 'two', 'must', 'bottom', 'thereupon', 'latter', 'themselves', 'namely', 'mine', 'each', 'put', 'ours', 'their', 'after', 'still', 'someone', 'at', 'himself', 'name', 'meanwhile', 'otherwise', 'whether', 'no', 'even'}\n"
     ]
    }
   ],
   "source": [
    "print(nlp.Defaults.stop_words)"
   ]
  },
  {
   "cell_type": "code",
   "execution_count": 4,
   "metadata": {},
   "outputs": [
    {
     "data": {
      "text/plain": [
       "326"
      ]
     },
     "execution_count": 4,
     "metadata": {},
     "output_type": "execute_result"
    }
   ],
   "source": [
    "len(nlp.Defaults.stop_words)"
   ]
  },
  {
   "cell_type": "code",
   "execution_count": 5,
   "metadata": {},
   "outputs": [
    {
     "data": {
      "text/plain": [
       "<spacy.lexeme.Lexeme at 0x2254b123140>"
      ]
     },
     "execution_count": 5,
     "metadata": {},
     "output_type": "execute_result"
    }
   ],
   "source": [
    "nlp.vocab[\"is\"]"
   ]
  },
  {
   "cell_type": "code",
   "execution_count": 6,
   "metadata": {},
   "outputs": [
    {
     "data": {
      "text/plain": [
       "True"
      ]
     },
     "execution_count": 6,
     "metadata": {},
     "output_type": "execute_result"
    }
   ],
   "source": [
    "nlp.vocab[\"is\"].is_stop"
   ]
  },
  {
   "cell_type": "code",
   "execution_count": 7,
   "metadata": {},
   "outputs": [
    {
     "data": {
      "text/plain": [
       "False"
      ]
     },
     "execution_count": 7,
     "metadata": {},
     "output_type": "execute_result"
    }
   ],
   "source": [
    "nlp.vocab[\"mystery\"].is_stop"
   ]
  },
  {
   "cell_type": "markdown",
   "metadata": {},
   "source": [
    "adding a stop word"
   ]
  },
  {
   "cell_type": "code",
   "execution_count": 8,
   "metadata": {},
   "outputs": [],
   "source": [
    "nlp.Defaults.stop_words.add(\"btw\")"
   ]
  },
  {
   "cell_type": "code",
   "execution_count": 9,
   "metadata": {},
   "outputs": [],
   "source": [
    "nlp.vocab[\"btw\"].is_stop = True"
   ]
  },
  {
   "cell_type": "code",
   "execution_count": 10,
   "metadata": {},
   "outputs": [
    {
     "data": {
      "text/plain": [
       "327"
      ]
     },
     "execution_count": 10,
     "metadata": {},
     "output_type": "execute_result"
    }
   ],
   "source": [
    "len(nlp.Defaults.stop_words)"
   ]
  },
  {
   "cell_type": "code",
   "execution_count": 11,
   "metadata": {},
   "outputs": [
    {
     "data": {
      "text/plain": [
       "True"
      ]
     },
     "execution_count": 11,
     "metadata": {},
     "output_type": "execute_result"
    }
   ],
   "source": [
    "nlp.vocab[\"btw\"].is_stop"
   ]
  },
  {
   "cell_type": "markdown",
   "metadata": {},
   "source": [
    "remove a stop word"
   ]
  },
  {
   "cell_type": "code",
   "execution_count": 12,
   "metadata": {},
   "outputs": [],
   "source": [
    "nlp.Defaults.stop_words.remove(\"beyond\")"
   ]
  },
  {
   "cell_type": "code",
   "execution_count": 13,
   "metadata": {},
   "outputs": [],
   "source": [
    "nlp.vocab[\"beyond\"].is_stop = \"False\""
   ]
  },
  {
   "cell_type": "code",
   "execution_count": 14,
   "metadata": {},
   "outputs": [
    {
     "data": {
      "text/plain": [
       "True"
      ]
     },
     "execution_count": 14,
     "metadata": {},
     "output_type": "execute_result"
    }
   ],
   "source": [
    "nlp.vocab[\"beyond\"].is_stop"
   ]
  },
  {
   "cell_type": "code",
   "execution_count": null,
   "metadata": {},
   "outputs": [],
   "source": []
  }
 ],
 "metadata": {
  "interpreter": {
   "hash": "7591ea46d86d09dcf21cd67c6e50f8615b5c01cb2d9d7c67f33cd85658f6e099"
  },
  "kernelspec": {
   "display_name": "Python 3.10.3 64-bit",
   "language": "python",
   "name": "python3"
  },
  "language_info": {
   "codemirror_mode": {
    "name": "ipython",
    "version": 3
   },
   "file_extension": ".py",
   "mimetype": "text/x-python",
   "name": "python",
   "nbconvert_exporter": "python",
   "pygments_lexer": "ipython3",
   "version": "3.10.3"
  },
  "orig_nbformat": 4
 },
 "nbformat": 4,
 "nbformat_minor": 2
}
