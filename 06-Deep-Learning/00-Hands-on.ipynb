{
 "cells": [
  {
   "cell_type": "code",
   "execution_count": 1,
   "metadata": {},
   "outputs": [],
   "source": [
    "import numpy as np\n",
    "from sklearn.datasets import load_iris"
   ]
  },
  {
   "cell_type": "code",
   "execution_count": 2,
   "metadata": {},
   "outputs": [],
   "source": [
    "iris = load_iris()"
   ]
  },
  {
   "cell_type": "code",
   "execution_count": 3,
   "metadata": {},
   "outputs": [
    {
     "data": {
      "text/plain": [
       "sklearn.utils._bunch.Bunch"
      ]
     },
     "execution_count": 3,
     "metadata": {},
     "output_type": "execute_result"
    }
   ],
   "source": [
    "type(iris)"
   ]
  },
  {
   "cell_type": "code",
   "execution_count": 4,
   "metadata": {},
   "outputs": [
    {
     "name": "stdout",
     "output_type": "stream",
     "text": [
      ".. _iris_dataset:\n",
      "\n",
      "Iris plants dataset\n",
      "--------------------\n",
      "\n",
      "**Data Set Characteristics:**\n",
      "\n",
      "    :Number of Instances: 150 (50 in each of three classes)\n",
      "    :Number of Attributes: 4 numeric, predictive attributes and the class\n",
      "    :Attribute Information:\n",
      "        - sepal length in cm\n",
      "        - sepal width in cm\n",
      "        - petal length in cm\n",
      "        - petal width in cm\n",
      "        - class:\n",
      "                - Iris-Setosa\n",
      "                - Iris-Versicolour\n",
      "                - Iris-Virginica\n",
      "                \n",
      "    :Summary Statistics:\n",
      "\n",
      "    ============== ==== ==== ======= ===== ====================\n",
      "                    Min  Max   Mean    SD   Class Correlation\n",
      "    ============== ==== ==== ======= ===== ====================\n",
      "    sepal length:   4.3  7.9   5.84   0.83    0.7826\n",
      "    sepal width:    2.0  4.4   3.05   0.43   -0.4194\n",
      "    petal length:   1.0  6.9   3.76   1.76    0.9490  (high!)\n",
      "    petal width:    0.1  2.5   1.20   0.76    0.9565  (high!)\n",
      "    ============== ==== ==== ======= ===== ====================\n",
      "\n",
      "    :Missing Attribute Values: None\n",
      "    :Class Distribution: 33.3% for each of 3 classes.\n",
      "    :Creator: R.A. Fisher\n",
      "    :Donor: Michael Marshall (MARSHALL%PLU@io.arc.nasa.gov)\n",
      "    :Date: July, 1988\n",
      "\n",
      "The famous Iris database, first used by Sir R.A. Fisher. The dataset is taken\n",
      "from Fisher's paper. Note that it's the same as in R, but not as in the UCI\n",
      "Machine Learning Repository, which has two wrong data points.\n",
      "\n",
      "This is perhaps the best known database to be found in the\n",
      "pattern recognition literature.  Fisher's paper is a classic in the field and\n",
      "is referenced frequently to this day.  (See Duda & Hart, for example.)  The\n",
      "data set contains 3 classes of 50 instances each, where each class refers to a\n",
      "type of iris plant.  One class is linearly separable from the other 2; the\n",
      "latter are NOT linearly separable from each other.\n",
      "\n",
      ".. topic:: References\n",
      "\n",
      "   - Fisher, R.A. \"The use of multiple measurements in taxonomic problems\"\n",
      "     Annual Eugenics, 7, Part II, 179-188 (1936); also in \"Contributions to\n",
      "     Mathematical Statistics\" (John Wiley, NY, 1950).\n",
      "   - Duda, R.O., & Hart, P.E. (1973) Pattern Classification and Scene Analysis.\n",
      "     (Q327.D83) John Wiley & Sons.  ISBN 0-471-22361-1.  See page 218.\n",
      "   - Dasarathy, B.V. (1980) \"Nosing Around the Neighborhood: A New System\n",
      "     Structure and Classification Rule for Recognition in Partially Exposed\n",
      "     Environments\".  IEEE Transactions on Pattern Analysis and Machine\n",
      "     Intelligence, Vol. PAMI-2, No. 1, 67-71.\n",
      "   - Gates, G.W. (1972) \"The Reduced Nearest Neighbor Rule\".  IEEE Transactions\n",
      "     on Information Theory, May 1972, 431-433.\n",
      "   - See also: 1988 MLC Proceedings, 54-64.  Cheeseman et al\"s AUTOCLASS II\n",
      "     conceptual clustering system finds 3 classes in the data.\n",
      "   - Many, many more ...\n"
     ]
    }
   ],
   "source": [
    "print(iris.DESCR)"
   ]
  },
  {
   "cell_type": "code",
   "execution_count": 5,
   "metadata": {},
   "outputs": [],
   "source": [
    "x = iris.data"
   ]
  },
  {
   "cell_type": "code",
   "execution_count": 6,
   "metadata": {},
   "outputs": [],
   "source": [
    "# x"
   ]
  },
  {
   "cell_type": "code",
   "execution_count": 7,
   "metadata": {},
   "outputs": [
    {
     "data": {
      "text/plain": [
       "array([0, 0, 0, 0, 0, 0, 0, 0, 0, 0, 0, 0, 0, 0, 0, 0, 0, 0, 0, 0, 0, 0,\n",
       "       0, 0, 0, 0, 0, 0, 0, 0, 0, 0, 0, 0, 0, 0, 0, 0, 0, 0, 0, 0, 0, 0,\n",
       "       0, 0, 0, 0, 0, 0, 1, 1, 1, 1, 1, 1, 1, 1, 1, 1, 1, 1, 1, 1, 1, 1,\n",
       "       1, 1, 1, 1, 1, 1, 1, 1, 1, 1, 1, 1, 1, 1, 1, 1, 1, 1, 1, 1, 1, 1,\n",
       "       1, 1, 1, 1, 1, 1, 1, 1, 1, 1, 1, 1, 2, 2, 2, 2, 2, 2, 2, 2, 2, 2,\n",
       "       2, 2, 2, 2, 2, 2, 2, 2, 2, 2, 2, 2, 2, 2, 2, 2, 2, 2, 2, 2, 2, 2,\n",
       "       2, 2, 2, 2, 2, 2, 2, 2, 2, 2, 2, 2, 2, 2, 2, 2, 2, 2])"
      ]
     },
     "execution_count": 7,
     "metadata": {},
     "output_type": "execute_result"
    }
   ],
   "source": [
    "y = iris.target\n",
    "y"
   ]
  },
  {
   "cell_type": "code",
   "execution_count": 8,
   "metadata": {},
   "outputs": [],
   "source": [
    "# we want one-hot encoding\n",
    "# class 0 --> [1,0,0]\n",
    "# class 1 --> [0,1,0]\n",
    "# class 2 --> [0,0,1]"
   ]
  },
  {
   "cell_type": "code",
   "execution_count": 9,
   "metadata": {},
   "outputs": [],
   "source": [
    "from keras.utils import to_categorical"
   ]
  },
  {
   "cell_type": "code",
   "execution_count": 10,
   "metadata": {},
   "outputs": [],
   "source": [
    "y = to_categorical(y)"
   ]
  },
  {
   "cell_type": "code",
   "execution_count": 11,
   "metadata": {},
   "outputs": [
    {
     "data": {
      "text/plain": [
       "(150, 3)"
      ]
     },
     "execution_count": 11,
     "metadata": {},
     "output_type": "execute_result"
    }
   ],
   "source": [
    "y.shape"
   ]
  },
  {
   "cell_type": "code",
   "execution_count": 13,
   "metadata": {},
   "outputs": [],
   "source": [
    "# y"
   ]
  },
  {
   "cell_type": "code",
   "execution_count": 14,
   "metadata": {},
   "outputs": [],
   "source": [
    "# train-test split\n",
    "from sklearn.model_selection import train_test_split"
   ]
  },
  {
   "cell_type": "code",
   "execution_count": 15,
   "metadata": {},
   "outputs": [],
   "source": [
    "X_train, X_test, y_train, y_test = train_test_split(x, y, test_size=0.33, random_state=42)"
   ]
  },
  {
   "cell_type": "code",
   "execution_count": 16,
   "metadata": {},
   "outputs": [],
   "source": [
    "# scale and standardize the data\n",
    "\n",
    "from sklearn.preprocessing import MinMaxScaler"
   ]
  },
  {
   "cell_type": "code",
   "execution_count": 17,
   "metadata": {},
   "outputs": [
    {
     "data": {
      "text/plain": [
       "array([0.25, 0.5 , 0.75, 1.  ])"
      ]
     },
     "execution_count": 17,
     "metadata": {},
     "output_type": "execute_result"
    }
   ],
   "source": [
    "np.array([5, 10, 15, 20]) / 20"
   ]
  },
  {
   "cell_type": "code",
   "execution_count": 18,
   "metadata": {},
   "outputs": [],
   "source": [
    "scaler_object = MinMaxScaler()"
   ]
  },
  {
   "cell_type": "code",
   "execution_count": 19,
   "metadata": {},
   "outputs": [
    {
     "data": {
      "text/html": [
       "<style>#sk-container-id-1 {color: black;background-color: white;}#sk-container-id-1 pre{padding: 0;}#sk-container-id-1 div.sk-toggleable {background-color: white;}#sk-container-id-1 label.sk-toggleable__label {cursor: pointer;display: block;width: 100%;margin-bottom: 0;padding: 0.3em;box-sizing: border-box;text-align: center;}#sk-container-id-1 label.sk-toggleable__label-arrow:before {content: \"▸\";float: left;margin-right: 0.25em;color: #696969;}#sk-container-id-1 label.sk-toggleable__label-arrow:hover:before {color: black;}#sk-container-id-1 div.sk-estimator:hover label.sk-toggleable__label-arrow:before {color: black;}#sk-container-id-1 div.sk-toggleable__content {max-height: 0;max-width: 0;overflow: hidden;text-align: left;background-color: #f0f8ff;}#sk-container-id-1 div.sk-toggleable__content pre {margin: 0.2em;color: black;border-radius: 0.25em;background-color: #f0f8ff;}#sk-container-id-1 input.sk-toggleable__control:checked~div.sk-toggleable__content {max-height: 200px;max-width: 100%;overflow: auto;}#sk-container-id-1 input.sk-toggleable__control:checked~label.sk-toggleable__label-arrow:before {content: \"▾\";}#sk-container-id-1 div.sk-estimator input.sk-toggleable__control:checked~label.sk-toggleable__label {background-color: #d4ebff;}#sk-container-id-1 div.sk-label input.sk-toggleable__control:checked~label.sk-toggleable__label {background-color: #d4ebff;}#sk-container-id-1 input.sk-hidden--visually {border: 0;clip: rect(1px 1px 1px 1px);clip: rect(1px, 1px, 1px, 1px);height: 1px;margin: -1px;overflow: hidden;padding: 0;position: absolute;width: 1px;}#sk-container-id-1 div.sk-estimator {font-family: monospace;background-color: #f0f8ff;border: 1px dotted black;border-radius: 0.25em;box-sizing: border-box;margin-bottom: 0.5em;}#sk-container-id-1 div.sk-estimator:hover {background-color: #d4ebff;}#sk-container-id-1 div.sk-parallel-item::after {content: \"\";width: 100%;border-bottom: 1px solid gray;flex-grow: 1;}#sk-container-id-1 div.sk-label:hover label.sk-toggleable__label {background-color: #d4ebff;}#sk-container-id-1 div.sk-serial::before {content: \"\";position: absolute;border-left: 1px solid gray;box-sizing: border-box;top: 0;bottom: 0;left: 50%;z-index: 0;}#sk-container-id-1 div.sk-serial {display: flex;flex-direction: column;align-items: center;background-color: white;padding-right: 0.2em;padding-left: 0.2em;position: relative;}#sk-container-id-1 div.sk-item {position: relative;z-index: 1;}#sk-container-id-1 div.sk-parallel {display: flex;align-items: stretch;justify-content: center;background-color: white;position: relative;}#sk-container-id-1 div.sk-item::before, #sk-container-id-1 div.sk-parallel-item::before {content: \"\";position: absolute;border-left: 1px solid gray;box-sizing: border-box;top: 0;bottom: 0;left: 50%;z-index: -1;}#sk-container-id-1 div.sk-parallel-item {display: flex;flex-direction: column;z-index: 1;position: relative;background-color: white;}#sk-container-id-1 div.sk-parallel-item:first-child::after {align-self: flex-end;width: 50%;}#sk-container-id-1 div.sk-parallel-item:last-child::after {align-self: flex-start;width: 50%;}#sk-container-id-1 div.sk-parallel-item:only-child::after {width: 0;}#sk-container-id-1 div.sk-dashed-wrapped {border: 1px dashed gray;margin: 0 0.4em 0.5em 0.4em;box-sizing: border-box;padding-bottom: 0.4em;background-color: white;}#sk-container-id-1 div.sk-label label {font-family: monospace;font-weight: bold;display: inline-block;line-height: 1.2em;}#sk-container-id-1 div.sk-label-container {text-align: center;}#sk-container-id-1 div.sk-container {/* jupyter's `normalize.less` sets `[hidden] { display: none; }` but bootstrap.min.css set `[hidden] { display: none !important; }` so we also need the `!important` here to be able to override the default hidden behavior on the sphinx rendered scikit-learn.org. See: https://github.com/scikit-learn/scikit-learn/issues/21755 */display: inline-block !important;position: relative;}#sk-container-id-1 div.sk-text-repr-fallback {display: none;}</style><div id=\"sk-container-id-1\" class=\"sk-top-container\"><div class=\"sk-text-repr-fallback\"><pre>MinMaxScaler()</pre><b>In a Jupyter environment, please rerun this cell to show the HTML representation or trust the notebook. <br />On GitHub, the HTML representation is unable to render, please try loading this page with nbviewer.org.</b></div><div class=\"sk-container\" hidden><div class=\"sk-item\"><div class=\"sk-estimator sk-toggleable\"><input class=\"sk-toggleable__control sk-hidden--visually\" id=\"sk-estimator-id-1\" type=\"checkbox\" checked><label for=\"sk-estimator-id-1\" class=\"sk-toggleable__label sk-toggleable__label-arrow\">MinMaxScaler</label><div class=\"sk-toggleable__content\"><pre>MinMaxScaler()</pre></div></div></div></div></div>"
      ],
      "text/plain": [
       "MinMaxScaler()"
      ]
     },
     "execution_count": 19,
     "metadata": {},
     "output_type": "execute_result"
    }
   ],
   "source": [
    "scaler_object.fit(X_train)"
   ]
  },
  {
   "cell_type": "code",
   "execution_count": 20,
   "metadata": {},
   "outputs": [],
   "source": [
    "scaled_X_train = scaler_object.transform(X_train)\n",
    "scaled_X_test = scaler_object.transform(X_test)"
   ]
  },
  {
   "cell_type": "code",
   "execution_count": 22,
   "metadata": {},
   "outputs": [],
   "source": [
    "#scaled_X_train"
   ]
  },
  {
   "cell_type": "code",
   "execution_count": 23,
   "metadata": {},
   "outputs": [],
   "source": [
    "# build networ kwith keras\n",
    "\n",
    "from keras.models import Sequential\n",
    "from keras.layers import Dense"
   ]
  },
  {
   "cell_type": "code",
   "execution_count": 24,
   "metadata": {},
   "outputs": [],
   "source": [
    "# 1-> create model\n",
    "model = Sequential()\n",
    "\n",
    "# 2-> add layers to model\n",
    "model.add(Dense(8, input_dim=4, activation = \"relu\"))\n",
    "model.add(Dense(8, input_dim=4, activation = \"relu\"))\n",
    "model.add(Dense(3, activation = \"softmax\")) # we get the probability of belonging to certain class\n",
    "\n",
    "model.compile(loss = \"categorical_crossentropy\", optimizer = \"adam\", metrics = [\"accuracy\"])"
   ]
  },
  {
   "cell_type": "code",
   "execution_count": 25,
   "metadata": {},
   "outputs": [
    {
     "name": "stdout",
     "output_type": "stream",
     "text": [
      "Model: \"sequential\"\n",
      "_________________________________________________________________\n",
      " Layer (type)                Output Shape              Param #   \n",
      "=================================================================\n",
      " dense (Dense)               (None, 8)                 40        \n",
      "                                                                 \n",
      " dense_1 (Dense)             (None, 8)                 72        \n",
      "                                                                 \n",
      " dense_2 (Dense)             (None, 3)                 27        \n",
      "                                                                 \n",
      "=================================================================\n",
      "Total params: 139\n",
      "Trainable params: 139\n",
      "Non-trainable params: 0\n",
      "_________________________________________________________________\n"
     ]
    }
   ],
   "source": [
    "model.summary()"
   ]
  },
  {
   "cell_type": "code",
   "execution_count": 26,
   "metadata": {},
   "outputs": [
    {
     "name": "stdout",
     "output_type": "stream",
     "text": [
      "Epoch 1/150\n",
      "4/4 - 1s - loss: 1.1202 - accuracy: 0.3100 - 966ms/epoch - 241ms/step\n",
      "Epoch 2/150\n",
      "4/4 - 0s - loss: 1.1159 - accuracy: 0.3100 - 12ms/epoch - 3ms/step\n",
      "Epoch 3/150\n",
      "4/4 - 0s - loss: 1.1122 - accuracy: 0.3100 - 12ms/epoch - 3ms/step\n",
      "Epoch 4/150\n",
      "4/4 - 0s - loss: 1.1084 - accuracy: 0.3100 - 15ms/epoch - 4ms/step\n",
      "Epoch 5/150\n",
      "4/4 - 0s - loss: 1.1052 - accuracy: 0.3000 - 13ms/epoch - 3ms/step\n",
      "Epoch 6/150\n",
      "4/4 - 0s - loss: 1.1026 - accuracy: 0.3000 - 14ms/epoch - 3ms/step\n",
      "Epoch 7/150\n",
      "4/4 - 0s - loss: 1.1002 - accuracy: 0.3000 - 15ms/epoch - 4ms/step\n",
      "Epoch 8/150\n",
      "4/4 - 0s - loss: 1.0974 - accuracy: 0.3100 - 12ms/epoch - 3ms/step\n",
      "Epoch 9/150\n",
      "4/4 - 0s - loss: 1.0953 - accuracy: 0.3100 - 14ms/epoch - 3ms/step\n",
      "Epoch 10/150\n",
      "4/4 - 0s - loss: 1.0936 - accuracy: 0.3200 - 274ms/epoch - 68ms/step\n",
      "Epoch 11/150\n",
      "4/4 - 0s - loss: 1.0917 - accuracy: 0.3700 - 13ms/epoch - 3ms/step\n",
      "Epoch 12/150\n",
      "4/4 - 0s - loss: 1.0901 - accuracy: 0.4000 - 14ms/epoch - 3ms/step\n",
      "Epoch 13/150\n",
      "4/4 - 0s - loss: 1.0883 - accuracy: 0.4800 - 24ms/epoch - 6ms/step\n",
      "Epoch 14/150\n",
      "4/4 - 0s - loss: 1.0868 - accuracy: 0.5700 - 14ms/epoch - 3ms/step\n",
      "Epoch 15/150\n",
      "4/4 - 0s - loss: 1.0850 - accuracy: 0.6000 - 13ms/epoch - 3ms/step\n",
      "Epoch 16/150\n",
      "4/4 - 0s - loss: 1.0833 - accuracy: 0.6400 - 14ms/epoch - 3ms/step\n",
      "Epoch 17/150\n",
      "4/4 - 0s - loss: 1.0815 - accuracy: 0.6500 - 12ms/epoch - 3ms/step\n",
      "Epoch 18/150\n",
      "4/4 - 0s - loss: 1.0796 - accuracy: 0.6500 - 15ms/epoch - 4ms/step\n",
      "Epoch 19/150\n",
      "4/4 - 0s - loss: 1.0776 - accuracy: 0.6600 - 13ms/epoch - 3ms/step\n",
      "Epoch 20/150\n",
      "4/4 - 0s - loss: 1.0756 - accuracy: 0.6600 - 14ms/epoch - 3ms/step\n",
      "Epoch 21/150\n",
      "4/4 - 0s - loss: 1.0734 - accuracy: 0.6600 - 14ms/epoch - 3ms/step\n",
      "Epoch 22/150\n",
      "4/4 - 0s - loss: 1.0712 - accuracy: 0.6600 - 15ms/epoch - 4ms/step\n",
      "Epoch 23/150\n",
      "4/4 - 0s - loss: 1.0682 - accuracy: 0.6600 - 13ms/epoch - 3ms/step\n",
      "Epoch 24/150\n",
      "4/4 - 0s - loss: 1.0656 - accuracy: 0.6600 - 15ms/epoch - 4ms/step\n",
      "Epoch 25/150\n",
      "4/4 - 0s - loss: 1.0623 - accuracy: 0.6700 - 13ms/epoch - 3ms/step\n",
      "Epoch 26/150\n",
      "4/4 - 0s - loss: 1.0587 - accuracy: 0.6800 - 14ms/epoch - 3ms/step\n",
      "Epoch 27/150\n",
      "4/4 - 0s - loss: 1.0549 - accuracy: 0.7000 - 15ms/epoch - 4ms/step\n",
      "Epoch 28/150\n",
      "4/4 - 0s - loss: 1.0511 - accuracy: 0.7000 - 14ms/epoch - 3ms/step\n",
      "Epoch 29/150\n",
      "4/4 - 0s - loss: 1.0467 - accuracy: 0.7100 - 13ms/epoch - 3ms/step\n",
      "Epoch 30/150\n",
      "4/4 - 0s - loss: 1.0419 - accuracy: 0.7300 - 13ms/epoch - 3ms/step\n",
      "Epoch 31/150\n",
      "4/4 - 0s - loss: 1.0366 - accuracy: 0.7800 - 13ms/epoch - 3ms/step\n",
      "Epoch 32/150\n",
      "4/4 - 0s - loss: 1.0312 - accuracy: 0.7900 - 13ms/epoch - 3ms/step\n",
      "Epoch 33/150\n",
      "4/4 - 0s - loss: 1.0259 - accuracy: 0.8500 - 13ms/epoch - 3ms/step\n",
      "Epoch 34/150\n",
      "4/4 - 0s - loss: 1.0206 - accuracy: 0.8600 - 15ms/epoch - 4ms/step\n",
      "Epoch 35/150\n",
      "4/4 - 0s - loss: 1.0151 - accuracy: 0.8500 - 13ms/epoch - 3ms/step\n",
      "Epoch 36/150\n",
      "4/4 - 0s - loss: 1.0090 - accuracy: 0.8600 - 12ms/epoch - 3ms/step\n",
      "Epoch 37/150\n",
      "4/4 - 0s - loss: 1.0016 - accuracy: 0.8600 - 12ms/epoch - 3ms/step\n",
      "Epoch 38/150\n",
      "4/4 - 0s - loss: 0.9939 - accuracy: 0.8500 - 12ms/epoch - 3ms/step\n",
      "Epoch 39/150\n",
      "4/4 - 0s - loss: 0.9861 - accuracy: 0.8500 - 19ms/epoch - 5ms/step\n",
      "Epoch 40/150\n",
      "4/4 - 0s - loss: 0.9785 - accuracy: 0.8500 - 15ms/epoch - 4ms/step\n",
      "Epoch 41/150\n",
      "4/4 - 0s - loss: 0.9701 - accuracy: 0.8400 - 12ms/epoch - 3ms/step\n",
      "Epoch 42/150\n",
      "4/4 - 0s - loss: 0.9618 - accuracy: 0.8300 - 11ms/epoch - 3ms/step\n",
      "Epoch 43/150\n",
      "4/4 - 0s - loss: 0.9538 - accuracy: 0.8500 - 11ms/epoch - 3ms/step\n",
      "Epoch 44/150\n",
      "4/4 - 0s - loss: 0.9454 - accuracy: 0.8200 - 13ms/epoch - 3ms/step\n",
      "Epoch 45/150\n",
      "4/4 - 0s - loss: 0.9369 - accuracy: 0.8100 - 15ms/epoch - 4ms/step\n",
      "Epoch 46/150\n",
      "4/4 - 0s - loss: 0.9284 - accuracy: 0.8000 - 15ms/epoch - 4ms/step\n",
      "Epoch 47/150\n",
      "4/4 - 0s - loss: 0.9193 - accuracy: 0.7800 - 17ms/epoch - 4ms/step\n",
      "Epoch 48/150\n",
      "4/4 - 0s - loss: 0.9112 - accuracy: 0.7500 - 12ms/epoch - 3ms/step\n",
      "Epoch 49/150\n",
      "4/4 - 0s - loss: 0.9029 - accuracy: 0.7500 - 12ms/epoch - 3ms/step\n",
      "Epoch 50/150\n",
      "4/4 - 0s - loss: 0.8949 - accuracy: 0.7800 - 17ms/epoch - 4ms/step\n",
      "Epoch 51/150\n",
      "4/4 - 0s - loss: 0.8872 - accuracy: 0.8100 - 16ms/epoch - 4ms/step\n",
      "Epoch 52/150\n",
      "4/4 - 0s - loss: 0.8798 - accuracy: 0.8100 - 14ms/epoch - 3ms/step\n",
      "Epoch 53/150\n",
      "4/4 - 0s - loss: 0.8718 - accuracy: 0.8100 - 12ms/epoch - 3ms/step\n",
      "Epoch 54/150\n",
      "4/4 - 0s - loss: 0.8640 - accuracy: 0.8200 - 14ms/epoch - 3ms/step\n",
      "Epoch 55/150\n",
      "4/4 - 0s - loss: 0.8557 - accuracy: 0.8200 - 13ms/epoch - 3ms/step\n",
      "Epoch 56/150\n",
      "4/4 - 0s - loss: 0.8478 - accuracy: 0.8100 - 14ms/epoch - 3ms/step\n",
      "Epoch 57/150\n",
      "4/4 - 0s - loss: 0.8396 - accuracy: 0.8000 - 12ms/epoch - 3ms/step\n",
      "Epoch 58/150\n",
      "4/4 - 0s - loss: 0.8321 - accuracy: 0.7800 - 14ms/epoch - 3ms/step\n",
      "Epoch 59/150\n",
      "4/4 - 0s - loss: 0.8242 - accuracy: 0.7800 - 14ms/epoch - 3ms/step\n",
      "Epoch 60/150\n",
      "4/4 - 0s - loss: 0.8170 - accuracy: 0.8400 - 15ms/epoch - 4ms/step\n",
      "Epoch 61/150\n",
      "4/4 - 0s - loss: 0.8103 - accuracy: 0.8700 - 16ms/epoch - 4ms/step\n",
      "Epoch 62/150\n",
      "4/4 - 0s - loss: 0.8045 - accuracy: 0.8900 - 15ms/epoch - 4ms/step\n",
      "Epoch 63/150\n",
      "4/4 - 0s - loss: 0.7976 - accuracy: 0.8900 - 13ms/epoch - 3ms/step\n",
      "Epoch 64/150\n",
      "4/4 - 0s - loss: 0.7905 - accuracy: 0.8900 - 17ms/epoch - 4ms/step\n",
      "Epoch 65/150\n",
      "4/4 - 0s - loss: 0.7833 - accuracy: 0.8900 - 14ms/epoch - 3ms/step\n",
      "Epoch 66/150\n",
      "4/4 - 0s - loss: 0.7758 - accuracy: 0.8900 - 16ms/epoch - 4ms/step\n",
      "Epoch 67/150\n",
      "4/4 - 0s - loss: 0.7691 - accuracy: 0.8900 - 13ms/epoch - 3ms/step\n",
      "Epoch 68/150\n",
      "4/4 - 0s - loss: 0.7622 - accuracy: 0.8900 - 10ms/epoch - 2ms/step\n",
      "Epoch 69/150\n",
      "4/4 - 0s - loss: 0.7552 - accuracy: 0.9000 - 24ms/epoch - 6ms/step\n",
      "Epoch 70/150\n",
      "4/4 - 0s - loss: 0.7483 - accuracy: 0.8800 - 25ms/epoch - 6ms/step\n",
      "Epoch 71/150\n",
      "4/4 - 0s - loss: 0.7420 - accuracy: 0.8800 - 17ms/epoch - 4ms/step\n",
      "Epoch 72/150\n",
      "4/4 - 0s - loss: 0.7356 - accuracy: 0.8400 - 15ms/epoch - 4ms/step\n",
      "Epoch 73/150\n",
      "4/4 - 0s - loss: 0.7290 - accuracy: 0.8100 - 17ms/epoch - 4ms/step\n",
      "Epoch 74/150\n",
      "4/4 - 0s - loss: 0.7226 - accuracy: 0.8200 - 15ms/epoch - 4ms/step\n",
      "Epoch 75/150\n",
      "4/4 - 0s - loss: 0.7161 - accuracy: 0.8400 - 19ms/epoch - 5ms/step\n",
      "Epoch 76/150\n",
      "4/4 - 0s - loss: 0.7100 - accuracy: 0.8600 - 21ms/epoch - 5ms/step\n",
      "Epoch 77/150\n",
      "4/4 - 0s - loss: 0.7042 - accuracy: 0.8700 - 13ms/epoch - 3ms/step\n",
      "Epoch 78/150\n",
      "4/4 - 0s - loss: 0.6985 - accuracy: 0.8800 - 17ms/epoch - 4ms/step\n",
      "Epoch 79/150\n",
      "4/4 - 0s - loss: 0.6927 - accuracy: 0.8800 - 14ms/epoch - 3ms/step\n",
      "Epoch 80/150\n",
      "4/4 - 0s - loss: 0.6867 - accuracy: 0.8600 - 13ms/epoch - 3ms/step\n",
      "Epoch 81/150\n",
      "4/4 - 0s - loss: 0.6808 - accuracy: 0.8300 - 11ms/epoch - 3ms/step\n",
      "Epoch 82/150\n",
      "4/4 - 0s - loss: 0.6750 - accuracy: 0.8300 - 14ms/epoch - 3ms/step\n",
      "Epoch 83/150\n",
      "4/4 - 0s - loss: 0.6694 - accuracy: 0.8100 - 20ms/epoch - 5ms/step\n",
      "Epoch 84/150\n",
      "4/4 - 0s - loss: 0.6637 - accuracy: 0.8100 - 18ms/epoch - 4ms/step\n",
      "Epoch 85/150\n",
      "4/4 - 0s - loss: 0.6578 - accuracy: 0.8100 - 18ms/epoch - 4ms/step\n",
      "Epoch 86/150\n",
      "4/4 - 0s - loss: 0.6523 - accuracy: 0.8100 - 13ms/epoch - 3ms/step\n",
      "Epoch 87/150\n",
      "4/4 - 0s - loss: 0.6468 - accuracy: 0.8200 - 13ms/epoch - 3ms/step\n",
      "Epoch 88/150\n",
      "4/4 - 0s - loss: 0.6411 - accuracy: 0.7800 - 13ms/epoch - 3ms/step\n",
      "Epoch 89/150\n",
      "4/4 - 0s - loss: 0.6360 - accuracy: 0.7800 - 14ms/epoch - 3ms/step\n",
      "Epoch 90/150\n",
      "4/4 - 0s - loss: 0.6298 - accuracy: 0.7800 - 14ms/epoch - 3ms/step\n",
      "Epoch 91/150\n",
      "4/4 - 0s - loss: 0.6242 - accuracy: 0.7800 - 18ms/epoch - 4ms/step\n",
      "Epoch 92/150\n",
      "4/4 - 0s - loss: 0.6188 - accuracy: 0.7800 - 15ms/epoch - 4ms/step\n",
      "Epoch 93/150\n",
      "4/4 - 0s - loss: 0.6133 - accuracy: 0.7800 - 17ms/epoch - 4ms/step\n",
      "Epoch 94/150\n",
      "4/4 - 0s - loss: 0.6081 - accuracy: 0.8300 - 13ms/epoch - 3ms/step\n",
      "Epoch 95/150\n",
      "4/4 - 0s - loss: 0.6026 - accuracy: 0.8400 - 16ms/epoch - 4ms/step\n",
      "Epoch 96/150\n",
      "4/4 - 0s - loss: 0.5976 - accuracy: 0.8600 - 11ms/epoch - 3ms/step\n",
      "Epoch 97/150\n",
      "4/4 - 0s - loss: 0.5923 - accuracy: 0.8700 - 12ms/epoch - 3ms/step\n",
      "Epoch 98/150\n",
      "4/4 - 0s - loss: 0.5870 - accuracy: 0.8700 - 12ms/epoch - 3ms/step\n",
      "Epoch 99/150\n",
      "4/4 - 0s - loss: 0.5812 - accuracy: 0.8700 - 12ms/epoch - 3ms/step\n",
      "Epoch 100/150\n",
      "4/4 - 0s - loss: 0.5762 - accuracy: 0.8700 - 12ms/epoch - 3ms/step\n",
      "Epoch 101/150\n",
      "4/4 - 0s - loss: 0.5703 - accuracy: 0.8700 - 13ms/epoch - 3ms/step\n",
      "Epoch 102/150\n",
      "4/4 - 0s - loss: 0.5651 - accuracy: 0.8700 - 16ms/epoch - 4ms/step\n",
      "Epoch 103/150\n",
      "4/4 - 0s - loss: 0.5598 - accuracy: 0.8800 - 15ms/epoch - 4ms/step\n",
      "Epoch 104/150\n",
      "4/4 - 0s - loss: 0.5545 - accuracy: 0.9000 - 27ms/epoch - 7ms/step\n",
      "Epoch 105/150\n",
      "4/4 - 0s - loss: 0.5492 - accuracy: 0.9100 - 15ms/epoch - 4ms/step\n",
      "Epoch 106/150\n",
      "4/4 - 0s - loss: 0.5444 - accuracy: 0.9100 - 15ms/epoch - 4ms/step\n",
      "Epoch 107/150\n",
      "4/4 - 0s - loss: 0.5384 - accuracy: 0.9100 - 15ms/epoch - 4ms/step\n",
      "Epoch 108/150\n",
      "4/4 - 0s - loss: 0.5334 - accuracy: 0.9200 - 17ms/epoch - 4ms/step\n",
      "Epoch 109/150\n",
      "4/4 - 0s - loss: 0.5286 - accuracy: 0.9200 - 18ms/epoch - 4ms/step\n",
      "Epoch 110/150\n",
      "4/4 - 0s - loss: 0.5238 - accuracy: 0.9200 - 15ms/epoch - 4ms/step\n",
      "Epoch 111/150\n",
      "4/4 - 0s - loss: 0.5184 - accuracy: 0.9200 - 14ms/epoch - 3ms/step\n",
      "Epoch 112/150\n",
      "4/4 - 0s - loss: 0.5131 - accuracy: 0.9200 - 18ms/epoch - 4ms/step\n",
      "Epoch 113/150\n",
      "4/4 - 0s - loss: 0.5078 - accuracy: 0.9200 - 16ms/epoch - 4ms/step\n",
      "Epoch 114/150\n",
      "4/4 - 0s - loss: 0.5030 - accuracy: 0.9200 - 16ms/epoch - 4ms/step\n",
      "Epoch 115/150\n",
      "4/4 - 0s - loss: 0.4983 - accuracy: 0.9200 - 14ms/epoch - 3ms/step\n",
      "Epoch 116/150\n",
      "4/4 - 0s - loss: 0.4928 - accuracy: 0.9200 - 13ms/epoch - 3ms/step\n",
      "Epoch 117/150\n",
      "4/4 - 0s - loss: 0.4879 - accuracy: 0.9200 - 13ms/epoch - 3ms/step\n",
      "Epoch 118/150\n",
      "4/4 - 0s - loss: 0.4838 - accuracy: 0.9200 - 12ms/epoch - 3ms/step\n",
      "Epoch 119/150\n",
      "4/4 - 0s - loss: 0.4790 - accuracy: 0.9200 - 14ms/epoch - 3ms/step\n",
      "Epoch 120/150\n",
      "4/4 - 0s - loss: 0.4742 - accuracy: 0.9200 - 13ms/epoch - 3ms/step\n",
      "Epoch 121/150\n",
      "4/4 - 0s - loss: 0.4696 - accuracy: 0.9200 - 12ms/epoch - 3ms/step\n",
      "Epoch 122/150\n",
      "4/4 - 0s - loss: 0.4647 - accuracy: 0.9200 - 20ms/epoch - 5ms/step\n",
      "Epoch 123/150\n",
      "4/4 - 0s - loss: 0.4600 - accuracy: 0.9200 - 15ms/epoch - 4ms/step\n",
      "Epoch 124/150\n",
      "4/4 - 0s - loss: 0.4551 - accuracy: 0.9200 - 13ms/epoch - 3ms/step\n",
      "Epoch 125/150\n",
      "4/4 - 0s - loss: 0.4503 - accuracy: 0.9200 - 17ms/epoch - 4ms/step\n",
      "Epoch 126/150\n",
      "4/4 - 0s - loss: 0.4459 - accuracy: 0.9200 - 12ms/epoch - 3ms/step\n",
      "Epoch 127/150\n",
      "4/4 - 0s - loss: 0.4414 - accuracy: 0.9200 - 12ms/epoch - 3ms/step\n",
      "Epoch 128/150\n",
      "4/4 - 0s - loss: 0.4367 - accuracy: 0.9200 - 15ms/epoch - 4ms/step\n",
      "Epoch 129/150\n",
      "4/4 - 0s - loss: 0.4322 - accuracy: 0.9200 - 18ms/epoch - 4ms/step\n",
      "Epoch 130/150\n",
      "4/4 - 0s - loss: 0.4283 - accuracy: 0.9200 - 14ms/epoch - 3ms/step\n",
      "Epoch 131/150\n",
      "4/4 - 0s - loss: 0.4235 - accuracy: 0.9200 - 15ms/epoch - 4ms/step\n",
      "Epoch 132/150\n",
      "4/4 - 0s - loss: 0.4190 - accuracy: 0.9200 - 15ms/epoch - 4ms/step\n",
      "Epoch 133/150\n",
      "4/4 - 0s - loss: 0.4145 - accuracy: 0.9200 - 12ms/epoch - 3ms/step\n",
      "Epoch 134/150\n",
      "4/4 - 0s - loss: 0.4113 - accuracy: 0.9200 - 13ms/epoch - 3ms/step\n",
      "Epoch 135/150\n",
      "4/4 - 0s - loss: 0.4082 - accuracy: 0.9200 - 12ms/epoch - 3ms/step\n",
      "Epoch 136/150\n",
      "4/4 - 0s - loss: 0.4047 - accuracy: 0.9200 - 14ms/epoch - 3ms/step\n",
      "Epoch 137/150\n",
      "4/4 - 0s - loss: 0.3997 - accuracy: 0.9200 - 12ms/epoch - 3ms/step\n",
      "Epoch 138/150\n",
      "4/4 - 0s - loss: 0.3935 - accuracy: 0.9200 - 12ms/epoch - 3ms/step\n",
      "Epoch 139/150\n",
      "4/4 - 0s - loss: 0.3895 - accuracy: 0.9400 - 15ms/epoch - 4ms/step\n",
      "Epoch 140/150\n",
      "4/4 - 0s - loss: 0.3859 - accuracy: 0.9500 - 14ms/epoch - 3ms/step\n",
      "Epoch 141/150\n",
      "4/4 - 0s - loss: 0.3816 - accuracy: 0.9500 - 60ms/epoch - 15ms/step\n",
      "Epoch 142/150\n",
      "4/4 - 0s - loss: 0.3774 - accuracy: 0.9500 - 15ms/epoch - 4ms/step\n",
      "Epoch 143/150\n",
      "4/4 - 0s - loss: 0.3733 - accuracy: 0.9500 - 13ms/epoch - 3ms/step\n",
      "Epoch 144/150\n",
      "4/4 - 0s - loss: 0.3697 - accuracy: 0.9500 - 14ms/epoch - 3ms/step\n",
      "Epoch 145/150\n",
      "4/4 - 0s - loss: 0.3658 - accuracy: 0.9500 - 14ms/epoch - 3ms/step\n",
      "Epoch 146/150\n",
      "4/4 - 0s - loss: 0.3620 - accuracy: 0.9500 - 27ms/epoch - 7ms/step\n",
      "Epoch 147/150\n",
      "4/4 - 0s - loss: 0.3586 - accuracy: 0.9500 - 13ms/epoch - 3ms/step\n",
      "Epoch 148/150\n",
      "4/4 - 0s - loss: 0.3548 - accuracy: 0.9500 - 13ms/epoch - 3ms/step\n",
      "Epoch 149/150\n",
      "4/4 - 0s - loss: 0.3512 - accuracy: 0.9500 - 15ms/epoch - 4ms/step\n",
      "Epoch 150/150\n",
      "4/4 - 0s - loss: 0.3479 - accuracy: 0.9500 - 14ms/epoch - 3ms/step\n"
     ]
    },
    {
     "data": {
      "text/plain": [
       "<keras.callbacks.History at 0x23ad07560b0>"
      ]
     },
     "execution_count": 26,
     "metadata": {},
     "output_type": "execute_result"
    }
   ],
   "source": [
    "model.fit(scaled_X_train, y_train, epochs = 150, verbose = 2)"
   ]
  },
  {
   "cell_type": "code",
   "execution_count": 27,
   "metadata": {},
   "outputs": [],
   "source": [
    "# predicting on new data"
   ]
  },
  {
   "cell_type": "markdown",
   "metadata": {},
   "source": [
    "## PART TWO"
   ]
  },
  {
   "cell_type": "code",
   "execution_count": 29,
   "metadata": {},
   "outputs": [],
   "source": [
    "# model.predict(scaled_X_test)"
   ]
  },
  {
   "cell_type": "code",
   "execution_count": null,
   "metadata": {},
   "outputs": [],
   "source": [
    "# model.predict_classes -> ne radi mi"
   ]
  },
  {
   "cell_type": "code",
   "execution_count": 33,
   "metadata": {},
   "outputs": [
    {
     "name": "stdout",
     "output_type": "stream",
     "text": [
      "2/2 [==============================] - 0s 5ms/step\n"
     ]
    },
    {
     "data": {
      "text/plain": [
       "array([1, 0, 2, 1, 1, 0, 1, 2, 2, 1, 2, 0, 0, 0, 0, 1, 2, 1, 1, 2, 0, 2,\n",
       "       0, 2, 2, 2, 2, 2, 0, 0, 0, 0, 1, 0, 0, 2, 1, 0, 0, 0, 2, 1, 1, 0,\n",
       "       0, 1, 2, 2, 1, 2], dtype=int64)"
      ]
     },
     "execution_count": 33,
     "metadata": {},
     "output_type": "execute_result"
    }
   ],
   "source": [
    "predict_x=model.predict(scaled_X_test) \n",
    "np.argmax(predict_x,axis=1)"
   ]
  },
  {
   "cell_type": "code",
   "execution_count": 34,
   "metadata": {},
   "outputs": [
    {
     "name": "stdout",
     "output_type": "stream",
     "text": [
      "2/2 [==============================] - 0s 5ms/step\n"
     ]
    }
   ],
   "source": [
    "predictions = np.argmax(model.predict(scaled_X_test), axis = 1)"
   ]
  },
  {
   "cell_type": "code",
   "execution_count": 35,
   "metadata": {},
   "outputs": [
    {
     "data": {
      "text/plain": [
       "array([1, 0, 2, 1, 1, 0, 1, 2, 1, 1, 2, 0, 0, 0, 0, 1, 2, 1, 1, 2, 0, 2,\n",
       "       0, 2, 2, 2, 2, 2, 0, 0, 0, 0, 1, 0, 0, 2, 1, 0, 0, 0, 2, 1, 1, 0,\n",
       "       0, 1, 2, 2, 1, 2], dtype=int64)"
      ]
     },
     "execution_count": 35,
     "metadata": {},
     "output_type": "execute_result"
    }
   ],
   "source": [
    "y_test.argmax(axis = 1)"
   ]
  },
  {
   "cell_type": "code",
   "execution_count": 36,
   "metadata": {},
   "outputs": [
    {
     "data": {
      "text/plain": [
       "array([1, 0, 2, 1, 1, 0, 1, 2, 2, 1, 2, 0, 0, 0, 0, 1, 2, 1, 1, 2, 0, 2,\n",
       "       0, 2, 2, 2, 2, 2, 0, 0, 0, 0, 1, 0, 0, 2, 1, 0, 0, 0, 2, 1, 1, 0,\n",
       "       0, 1, 2, 2, 1, 2], dtype=int64)"
      ]
     },
     "execution_count": 36,
     "metadata": {},
     "output_type": "execute_result"
    }
   ],
   "source": [
    "predictions"
   ]
  },
  {
   "cell_type": "code",
   "execution_count": 37,
   "metadata": {},
   "outputs": [],
   "source": [
    "from sklearn.metrics import confusion_matrix, classification_report, accuracy_score"
   ]
  },
  {
   "cell_type": "code",
   "execution_count": 38,
   "metadata": {},
   "outputs": [
    {
     "data": {
      "text/plain": [
       "array([[19,  0,  0],\n",
       "       [ 0, 14,  1],\n",
       "       [ 0,  0, 16]], dtype=int64)"
      ]
     },
     "execution_count": 38,
     "metadata": {},
     "output_type": "execute_result"
    }
   ],
   "source": [
    "confusion_matrix(y_test.argmax(axis = 1), predictions)"
   ]
  },
  {
   "cell_type": "code",
   "execution_count": 40,
   "metadata": {},
   "outputs": [
    {
     "name": "stdout",
     "output_type": "stream",
     "text": [
      "              precision    recall  f1-score   support\n",
      "\n",
      "           0       1.00      1.00      1.00        19\n",
      "           1       1.00      0.93      0.97        15\n",
      "           2       0.94      1.00      0.97        16\n",
      "\n",
      "    accuracy                           0.98        50\n",
      "   macro avg       0.98      0.98      0.98        50\n",
      "weighted avg       0.98      0.98      0.98        50\n",
      "\n"
     ]
    }
   ],
   "source": [
    "print(classification_report(y_test.argmax(axis = 1), predictions))"
   ]
  },
  {
   "cell_type": "code",
   "execution_count": 41,
   "metadata": {},
   "outputs": [
    {
     "data": {
      "text/plain": [
       "0.98"
      ]
     },
     "execution_count": 41,
     "metadata": {},
     "output_type": "execute_result"
    }
   ],
   "source": [
    "accuracy_score(y_test.argmax(axis = 1), predictions)"
   ]
  },
  {
   "cell_type": "code",
   "execution_count": 42,
   "metadata": {},
   "outputs": [],
   "source": [
    "# saving the model\n",
    "\n",
    "model.save(\"myfirstmodel_handson.h5\")"
   ]
  },
  {
   "cell_type": "code",
   "execution_count": 43,
   "metadata": {},
   "outputs": [],
   "source": [
    "from keras.models import load_model\n",
    "\n",
    "new_model = load_model(\"myfirstmodel_handson.h5\")"
   ]
  },
  {
   "cell_type": "code",
   "execution_count": null,
   "metadata": {},
   "outputs": [],
   "source": []
  }
 ],
 "metadata": {
  "kernelspec": {
   "display_name": "Python 3.10.3 64-bit",
   "language": "python",
   "name": "python3"
  },
  "language_info": {
   "codemirror_mode": {
    "name": "ipython",
    "version": 3
   },
   "file_extension": ".py",
   "mimetype": "text/x-python",
   "name": "python",
   "nbconvert_exporter": "python",
   "pygments_lexer": "ipython3",
   "version": "3.10.3"
  },
  "orig_nbformat": 4,
  "vscode": {
   "interpreter": {
    "hash": "2d436155cd8e9b45e10cf2c331e8b7d009ce9655ba26437721181731940346e6"
   }
  }
 },
 "nbformat": 4,
 "nbformat_minor": 2
}
